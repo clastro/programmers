#Question : Create a 1D array of numbers from 0 to 9
#Output : array([0, 1, 2, 3, 4, 5, 6, 7, 8, 9])
#np.array(range(10))
np.arange(10)

#Question: Convert a 1D array to a 2D array with 2 rows
#input: np.arange(10)
#output array([[0, 1, 2, 3, 4],[5, 6, 7, 8, 9]])

#q4
np.arange(10).reshape(2,5)

#Question: From the array a, replace all values greater than 30 to 30 and less than 10 to 10.

np.set_printoptions(precision=2)
np.random.seed(100)
a = np.random.uniform(1,50,20)
#q5

a[a>30] = 30
a[a<10] = 10
a
