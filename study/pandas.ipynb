import pandas as pd
#q1.solution()
fruits = pd.DataFrame(columns=['Apples','Bananas'])
fruits.loc[0,'Apples'] = 30
fruits.loc[0,'Bananas'] = 21
fruits

# q2
data = {'Apples':[35,41],'Bananas':[21,34]}
fruit_sales = pd.DataFrame(data,columns=['Apples','Bananas'],index=['2017 Sales','2018 Sales'])
fruit_sales
