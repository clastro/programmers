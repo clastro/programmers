# 1. 리스트 형태를 카운트 정보가 담긴 딕셔너리로 변환
fruit = ['apple','banana','banana','blueberry','melon','banana','melon',
         'melon','apple','apple','melon','melon','apple','apple']

fruit_dict = {}
for d in fruit : 
    fruit_dict[d] = fruit_dict.get(d, 0) + 1


# 2. 조건 : 재고가 100개 이상이면서, 가격이 2500원 초과 출력하기
a = {'아메리카노': [1900,50], '카페모카': [3300,99], '에스프레소': [1900,165], '카페라떼': [2500,55], '카푸치노': [2500,150], '바닐라라떼': [2900,200]}

[i[0] for i in a.items() if ((i[1][0]>2500) & (i[1][1]>=100))]

# 5. 클래스 만들기

## 클래스 작성
class Rectangle:
    #Constructor:
    def __init__(self,width,height):
        self.width = width
        self.height = height
    def getArea(self):
        self.width * self.height
        return self.width * self.height
    def __str__(self):
        return str(self.width * self.height)
