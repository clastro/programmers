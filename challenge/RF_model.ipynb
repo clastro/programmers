{
 "cells": [
  {
   "cell_type": "code",
   "execution_count": 351,
   "metadata": {},
   "outputs": [],
   "source": [
    "import pandas as pd\n",
    "import json\n",
    "import numpy as np\n",
    "import re"
   ]
  },
  {
   "cell_type": "code",
   "execution_count": 357,
   "metadata": {},
   "outputs": [],
   "source": [
    "df_train = pd.read_csv(\"./hashcode_classification2020_train.csv\",encoding=\"utf-8-sig\",skipinitialspace=True)\n",
    "df_test = pd.read_csv(\"./hashcode_classification2020_test.csv\",encoding=\"utf-8-sig\",skipinitialspace=True)"
   ]
  },
  {
   "cell_type": "code",
   "execution_count": 358,
   "metadata": {},
   "outputs": [],
   "source": [
    "df_train = df_train.replace('\\n','', regex=True)"
   ]
  },
  {
   "cell_type": "code",
   "execution_count": 359,
   "metadata": {},
   "outputs": [],
   "source": [
    "df_train.loc[2400,\"content\"]= df_train[\"title\"][2400]"
   ]
  },
  {
   "cell_type": "code",
   "execution_count": 360,
   "metadata": {},
   "outputs": [],
   "source": [
    "df_train[\"mecab_ticon\"] = df_train[[\"title\",\"content\"]].apply(lambda x: ' '.join(x),axis=1)"
   ]
  },
  {
   "cell_type": "code",
   "execution_count": 272,
   "metadata": {},
   "outputs": [],
   "source": [
    "def cleanText(readData):\n",
    "    #텍스트에 포함되어 있는 특수 문자 제거\n",
    "    #text = re.sub('[-=+,#/\\?:^$.@*\\\"※~&%ㆍ!』\\\\‘|\\(\\)\\[\\]\\<\\>`\\'…》]', '', readData)\n",
    "    text = re.sub('[$]', '', readData)\n",
    "    return text"
   ]
  },
  {
   "cell_type": "code",
   "execution_count": 361,
   "metadata": {},
   "outputs": [],
   "source": [
    "from konlpy.tag import Mecab\n",
    "mecab = Mecab()"
   ]
  },
  {
   "cell_type": "code",
   "execution_count": 362,
   "metadata": {},
   "outputs": [],
   "source": [
    "#df_train[\"mecab_ticon\"] = df_train[\"mecab_ticon\"].apply(lambda x :cleanText(x))\n",
    "df_train[\"mecab_ticon\"] = df_train[\"mecab_ticon\"].apply(lambda x :mecab.morphs(x))"
   ]
  },
  {
   "cell_type": "code",
   "execution_count": 363,
   "metadata": {
    "scrolled": true
   },
   "outputs": [
    {
     "data": {
      "text/html": [
       "<div>\n",
       "<style scoped>\n",
       "    .dataframe tbody tr th:only-of-type {\n",
       "        vertical-align: middle;\n",
       "    }\n",
       "\n",
       "    .dataframe tbody tr th {\n",
       "        vertical-align: top;\n",
       "    }\n",
       "\n",
       "    .dataframe thead th {\n",
       "        text-align: right;\n",
       "    }\n",
       "</style>\n",
       "<table border=\"1\" class=\"dataframe\">\n",
       "  <thead>\n",
       "    <tr style=\"text-align: right;\">\n",
       "      <th></th>\n",
       "      <th>title</th>\n",
       "      <th>content</th>\n",
       "      <th>label</th>\n",
       "      <th>mecab_ticon</th>\n",
       "    </tr>\n",
       "  </thead>\n",
       "  <tbody>\n",
       "    <tr>\n",
       "      <th>0</th>\n",
       "      <td>wait()과 sleep()의 차이점은 뭔가요</td>\n",
       "      <td>###발생하는 문제 및 실행환경wait()과 sleep()의 차이점은 뭔가요</td>\n",
       "      <td>3</td>\n",
       "      <td>[wait, (, ), 과, sleep, (, ), 의, 차이점, 은, 뭔, 가요,...</td>\n",
       "    </tr>\n",
       "    <tr>\n",
       "      <th>1</th>\n",
       "      <td>$$$ 초보 외부 클래스 멤버 변수 사용 질문합니다.ㅠㅠ</td>\n",
       "      <td>1.헤더에, 사용할 멤버변수가 담긴 헤더 파일이 Include 되어있습니다.예를 들...</td>\n",
       "      <td>2</td>\n",
       "      <td>[$$$, 초보, 외부, 클래스, 멤버, 변수, 사용, 질문, 합니다, ., ㅠㅠ,...</td>\n",
       "    </tr>\n",
       "    <tr>\n",
       "      <th>2</th>\n",
       "      <td>ORM: Sequelize: 다대다 관계 쿼리</td>\n",
       "      <td>안녕하세요.어떻게 다대다 관계 쿼리를 해야하나요? 예를들어, `product`, `...</td>\n",
       "      <td>4</td>\n",
       "      <td>[ORM, :, Sequelize, :, 다대다, 관계, 쿼리, 안녕, 하, 세요,...</td>\n",
       "    </tr>\n",
       "    <tr>\n",
       "      <th>3</th>\n",
       "      <td>$$$에서 숫자가 NaN인지 검사하려면 어떻게해야하죠?</td>\n",
       "      <td>```parseFloat('geoff') == NaN;parseFloat('geof...</td>\n",
       "      <td>4</td>\n",
       "      <td>[$$$, 에서, 숫자, 가, NaN, 인지, 검사, 하, 려면, 어떻게, 해야, ...</td>\n",
       "    </tr>\n",
       "    <tr>\n",
       "      <th>4</th>\n",
       "      <td>$$$ 2.7에서 중국어, 특수문자 인코딩 하는 방법이 뭔가요?</td>\n",
       "      <td>```&gt;&gt;&gt;dict['name']胡安·马塔&gt;&gt;&gt;json.dumps(dict['nam...</td>\n",
       "      <td>5</td>\n",
       "      <td>[$$$, 2, ., 7, 에서, 중국어, ,, 특수, 문자, 인코딩, 하, 는, ...</td>\n",
       "    </tr>\n",
       "    <tr>\n",
       "      <th>...</th>\n",
       "      <td>...</td>\n",
       "      <td>...</td>\n",
       "      <td>...</td>\n",
       "      <td>...</td>\n",
       "    </tr>\n",
       "    <tr>\n",
       "      <th>2587</th>\n",
       "      <td>$$$ 슬라이드 질문입니다.</td>\n",
       "      <td>안녕하세요.다름이아니라 $$$로 버튼을 클릭하면 오른쪽에서 왼쪽으로 들어갔다나오는 ...</td>\n",
       "      <td>4</td>\n",
       "      <td>[$$$, 슬라이드, 질문, 입니다, ., 안녕, 하, 세요, ., 다름, 이, 아...</td>\n",
       "    </tr>\n",
       "    <tr>\n",
       "      <th>2588</th>\n",
       "      <td>$$$ 메인 클래스</td>\n",
       "      <td>프로그램 전체 메인 클래스를 하나 만들고 메인에서 메뉴를 선택하면 세가지 각각 다른...</td>\n",
       "      <td>3</td>\n",
       "      <td>[$$$, 메인, 클래스, 프로그램, 전체, 메인, 클래스, 를, 하나, 만들, 고...</td>\n",
       "    </tr>\n",
       "    <tr>\n",
       "      <th>2589</th>\n",
       "      <td>$$$ sparse matrix 질문합니다!</td>\n",
       "      <td>* sparse matrix: 0이 아닌 값을 가진 원소들을 ordered list...</td>\n",
       "      <td>1</td>\n",
       "      <td>[$$$, sparse, matrix, 질문, 합니다, !, *, sparse, m...</td>\n",
       "    </tr>\n",
       "    <tr>\n",
       "      <th>2590</th>\n",
       "      <td>$$$ models 폴더의 depth가 일반적이지 않을 경우 migration하는 법</td>\n",
       "      <td>안녕하세요 $$$ + javascript를 이용해서 간단한 웹게임을 만들어보려고 하...</td>\n",
       "      <td>5</td>\n",
       "      <td>[$$$, models, 폴더, 의, depth, 가, 일반, 적, 이, 지, 않,...</td>\n",
       "    </tr>\n",
       "    <tr>\n",
       "      <th>2591</th>\n",
       "      <td>허프만 코드를 사용한 파일 압축 질문입니다.</td>\n",
       "      <td>허프만 코딩을 사용해서 파일 압축을 하는 과제 도중에 입력받은 파일 데이터를 이진화...</td>\n",
       "      <td>2</td>\n",
       "      <td>[허프만, 코드, 를, 사용, 한, 파일, 압축, 질문, 입니다, ., 허프만, 코...</td>\n",
       "    </tr>\n",
       "  </tbody>\n",
       "</table>\n",
       "<p>2592 rows × 4 columns</p>\n",
       "</div>"
      ],
      "text/plain": [
       "                                                title  \\\n",
       "0                           wait()과 sleep()의 차이점은 뭔가요   \n",
       "1                     $$$ 초보 외부 클래스 멤버 변수 사용 질문합니다.ㅠㅠ   \n",
       "2                           ORM: Sequelize: 다대다 관계 쿼리   \n",
       "3                      $$$에서 숫자가 NaN인지 검사하려면 어떻게해야하죠?   \n",
       "4                 $$$ 2.7에서 중국어, 특수문자 인코딩 하는 방법이 뭔가요?   \n",
       "...                                               ...   \n",
       "2587                                  $$$ 슬라이드 질문입니다.   \n",
       "2588                                       $$$ 메인 클래스   \n",
       "2589                         $$$ sparse matrix 질문합니다!   \n",
       "2590  $$$ models 폴더의 depth가 일반적이지 않을 경우 migration하는 법   \n",
       "2591                         허프만 코드를 사용한 파일 압축 질문입니다.   \n",
       "\n",
       "                                                content  label  \\\n",
       "0            ###발생하는 문제 및 실행환경wait()과 sleep()의 차이점은 뭔가요      3   \n",
       "1     1.헤더에, 사용할 멤버변수가 담긴 헤더 파일이 Include 되어있습니다.예를 들...      2   \n",
       "2     안녕하세요.어떻게 다대다 관계 쿼리를 해야하나요? 예를들어, `product`, `...      4   \n",
       "3     ```parseFloat('geoff') == NaN;parseFloat('geof...      4   \n",
       "4     ```>>>dict['name']胡安·马塔>>>json.dumps(dict['nam...      5   \n",
       "...                                                 ...    ...   \n",
       "2587  안녕하세요.다름이아니라 $$$로 버튼을 클릭하면 오른쪽에서 왼쪽으로 들어갔다나오는 ...      4   \n",
       "2588  프로그램 전체 메인 클래스를 하나 만들고 메인에서 메뉴를 선택하면 세가지 각각 다른...      3   \n",
       "2589  * sparse matrix: 0이 아닌 값을 가진 원소들을 ordered list...      1   \n",
       "2590  안녕하세요 $$$ + javascript를 이용해서 간단한 웹게임을 만들어보려고 하...      5   \n",
       "2591  허프만 코딩을 사용해서 파일 압축을 하는 과제 도중에 입력받은 파일 데이터를 이진화...      2   \n",
       "\n",
       "                                            mecab_ticon  \n",
       "0     [wait, (, ), 과, sleep, (, ), 의, 차이점, 은, 뭔, 가요,...  \n",
       "1     [$$$, 초보, 외부, 클래스, 멤버, 변수, 사용, 질문, 합니다, ., ㅠㅠ,...  \n",
       "2     [ORM, :, Sequelize, :, 다대다, 관계, 쿼리, 안녕, 하, 세요,...  \n",
       "3     [$$$, 에서, 숫자, 가, NaN, 인지, 검사, 하, 려면, 어떻게, 해야, ...  \n",
       "4     [$$$, 2, ., 7, 에서, 중국어, ,, 특수, 문자, 인코딩, 하, 는, ...  \n",
       "...                                                 ...  \n",
       "2587  [$$$, 슬라이드, 질문, 입니다, ., 안녕, 하, 세요, ., 다름, 이, 아...  \n",
       "2588  [$$$, 메인, 클래스, 프로그램, 전체, 메인, 클래스, 를, 하나, 만들, 고...  \n",
       "2589  [$$$, sparse, matrix, 질문, 합니다, !, *, sparse, m...  \n",
       "2590  [$$$, models, 폴더, 의, depth, 가, 일반, 적, 이, 지, 않,...  \n",
       "2591  [허프만, 코드, 를, 사용, 한, 파일, 압축, 질문, 입니다, ., 허프만, 코...  \n",
       "\n",
       "[2592 rows x 4 columns]"
      ]
     },
     "execution_count": 363,
     "metadata": {},
     "output_type": "execute_result"
    }
   ],
   "source": [
    "df_train"
   ]
  },
  {
   "cell_type": "code",
   "execution_count": 364,
   "metadata": {},
   "outputs": [],
   "source": [
    "y_train = df_train[\"label\"]"
   ]
  },
  {
   "cell_type": "code",
   "execution_count": 365,
   "metadata": {},
   "outputs": [],
   "source": [
    "df_test = df_test.replace('\\n','', regex=True)\n",
    "df_test[\"mecab_ticon\"] = df_test[[\"title\",\"content\"]].apply(lambda x: ' '.join(x),axis=1)\n",
    "#df_test[\"mecab_ticon\"] = df_test[\"mecab_ticon\"].apply(lambda x :cleanText(x))\n",
    "df_test[\"mecab_ticon\"] = df_test[\"mecab_ticon\"].apply(lambda x :mecab.morphs(x))"
   ]
  },
  {
   "cell_type": "code",
   "execution_count": 366,
   "metadata": {},
   "outputs": [],
   "source": [
    "train_documents = df_train[\"mecab_ticon\"]"
   ]
  },
  {
   "cell_type": "code",
   "execution_count": 196,
   "metadata": {},
   "outputs": [],
   "source": [
    "#train_documents = train_documents.apply(lambda x: [word.strip() for word in x if len(word) > 1])"
   ]
  },
  {
   "cell_type": "code",
   "execution_count": 367,
   "metadata": {},
   "outputs": [
    {
     "data": {
      "text/plain": [
       "0       [wait, (, ), 과, sleep, (, ), 의, 차이점, 은, 뭔, 가요,...\n",
       "1       [$$$, 초보, 외부, 클래스, 멤버, 변수, 사용, 질문, 합니다, ., ㅠㅠ,...\n",
       "2       [ORM, :, Sequelize, :, 다대다, 관계, 쿼리, 안녕, 하, 세요,...\n",
       "3       [$$$, 에서, 숫자, 가, NaN, 인지, 검사, 하, 려면, 어떻게, 해야, ...\n",
       "4       [$$$, 2, ., 7, 에서, 중국어, ,, 특수, 문자, 인코딩, 하, 는, ...\n",
       "                              ...                        \n",
       "2587    [$$$, 슬라이드, 질문, 입니다, ., 안녕, 하, 세요, ., 다름, 이, 아...\n",
       "2588    [$$$, 메인, 클래스, 프로그램, 전체, 메인, 클래스, 를, 하나, 만들, 고...\n",
       "2589    [$$$, sparse, matrix, 질문, 합니다, !, *, sparse, m...\n",
       "2590    [$$$, models, 폴더, 의, depth, 가, 일반, 적, 이, 지, 않,...\n",
       "2591    [허프만, 코드, 를, 사용, 한, 파일, 압축, 질문, 입니다, ., 허프만, 코...\n",
       "Name: mecab_ticon, Length: 2592, dtype: object"
      ]
     },
     "execution_count": 367,
     "metadata": {},
     "output_type": "execute_result"
    }
   ],
   "source": [
    "train_documents"
   ]
  },
  {
   "cell_type": "code",
   "execution_count": 368,
   "metadata": {},
   "outputs": [],
   "source": [
    "train_documents = train_documents.apply(lambda x : \" \".join(x))"
   ]
  },
  {
   "cell_type": "code",
   "execution_count": 369,
   "metadata": {},
   "outputs": [
    {
     "data": {
      "text/plain": [
       "0       wait ( ) 과 sleep ( ) 의 차이점 은 뭔 가요 ### 발생 하 는 문...\n",
       "1       $$$ 초보 외부 클래스 멤버 변수 사용 질문 합니다 . ㅠㅠ 1 . 헤더 에 , ...\n",
       "2       ORM : Sequelize : 다대다 관계 쿼리 안녕 하 세요 . 어떻게 다대다 ...\n",
       "3       $$$ 에서 숫자 가 NaN 인지 검사 하 려면 어떻게 해야 하 죠 ? ``` pa...\n",
       "4       $$$ 2 . 7 에서 중국어 , 특수 문자 인코딩 하 는 방법 이 뭔가요 ? ``...\n",
       "                              ...                        \n",
       "2587    $$$ 슬라이드 질문 입니다 . 안녕 하 세요 . 다름 이 아니 라 $$$ 로 버튼...\n",
       "2588    $$$ 메인 클래스 프로그램 전체 메인 클래스 를 하나 만들 고 메인 에서 메뉴 를...\n",
       "2589    $$$ sparse matrix 질문 합니다 ! * sparse matrix : 0...\n",
       "2590    $$$ models 폴더 의 depth 가 일반 적 이 지 않 을 경우 migrat...\n",
       "2591    허프만 코드 를 사용 한 파일 압축 질문 입니다 . 허프만 코딩 을 사용 해서 파일...\n",
       "Name: mecab_ticon, Length: 2592, dtype: object"
      ]
     },
     "execution_count": 369,
     "metadata": {},
     "output_type": "execute_result"
    }
   ],
   "source": [
    "train_documents"
   ]
  },
  {
   "cell_type": "code",
   "execution_count": 21,
   "metadata": {
    "scrolled": true
   },
   "outputs": [
    {
     "name": "stdout",
     "output_type": "stream",
     "text": [
      "Collecting gensim\n",
      "\u001b[?25l  Downloading https://files.pythonhosted.org/packages/44/93/c6011037f24e3106d13f3be55297bf84ece2bf15b278cc4776339dc52db5/gensim-3.8.1-cp37-cp37m-manylinux1_x86_64.whl (24.2MB)\n",
      "\u001b[K     |████████████████████████████████| 24.2MB 2.1MB/s eta 0:00:011\n",
      "\u001b[?25hRequirement already satisfied: numpy>=1.11.3 in /home/realna/anaconda3/lib/python3.7/site-packages (from gensim) (1.17.4)\n",
      "Collecting smart-open>=1.8.1\n",
      "\u001b[?25l  Downloading https://files.pythonhosted.org/packages/0c/09/735f2786dfac9bbf39d244ce75c0313d27d4962e71e0774750dc809f2395/smart_open-1.9.0.tar.gz (70kB)\n",
      "\u001b[K     |████████████████████████████████| 71kB 4.3MB/s eta 0:00:01\n",
      "\u001b[?25hRequirement already satisfied: six>=1.5.0 in /home/realna/anaconda3/lib/python3.7/site-packages (from gensim) (1.13.0)\n",
      "Requirement already satisfied: scipy>=0.18.1 in /home/realna/anaconda3/lib/python3.7/site-packages (from gensim) (1.4.1)\n",
      "Requirement already satisfied: boto>=2.32 in /home/realna/anaconda3/lib/python3.7/site-packages (from smart-open>=1.8.1->gensim) (2.49.0)\n",
      "Requirement already satisfied: requests in /home/realna/anaconda3/lib/python3.7/site-packages (from smart-open>=1.8.1->gensim) (2.22.0)\n",
      "Collecting boto3\n",
      "\u001b[?25l  Downloading https://files.pythonhosted.org/packages/d5/57/e9675a5a8d0ee586594ff19cb9a601334fbf24fa2fb29052d2a900ee5d23/boto3-1.11.9-py2.py3-none-any.whl (128kB)\n",
      "\u001b[K     |████████████████████████████████| 133kB 6.2MB/s eta 0:00:01\n",
      "\u001b[?25hRequirement already satisfied: urllib3!=1.25.0,!=1.25.1,<1.26,>=1.21.1 in /home/realna/anaconda3/lib/python3.7/site-packages (from requests->smart-open>=1.8.1->gensim) (1.25.7)\n",
      "Requirement already satisfied: idna<2.9,>=2.5 in /home/realna/anaconda3/lib/python3.7/site-packages (from requests->smart-open>=1.8.1->gensim) (2.8)\n",
      "Requirement already satisfied: certifi>=2017.4.17 in /home/realna/anaconda3/lib/python3.7/site-packages (from requests->smart-open>=1.8.1->gensim) (2019.11.28)\n",
      "Requirement already satisfied: chardet<3.1.0,>=3.0.2 in /home/realna/anaconda3/lib/python3.7/site-packages (from requests->smart-open>=1.8.1->gensim) (3.0.4)\n",
      "Collecting jmespath<1.0.0,>=0.7.1\n",
      "  Downloading https://files.pythonhosted.org/packages/83/94/7179c3832a6d45b266ddb2aac329e101367fbdb11f425f13771d27f225bb/jmespath-0.9.4-py2.py3-none-any.whl\n",
      "Collecting s3transfer<0.4.0,>=0.3.0\n",
      "\u001b[?25l  Downloading https://files.pythonhosted.org/packages/c7/48/a8252b6b3cd31774eab312b19d58a6ac55f296240c206617dcd38cd93bf8/s3transfer-0.3.2-py2.py3-none-any.whl (69kB)\n",
      "\u001b[K     |████████████████████████████████| 71kB 7.4MB/s  eta 0:00:01\n",
      "\u001b[?25hCollecting botocore<1.15.0,>=1.14.9\n",
      "\u001b[?25l  Downloading https://files.pythonhosted.org/packages/64/4c/b0b0d3b6f84a05f9135051b56d3eb8708012a289c4b82ee21c8c766f47b5/botocore-1.14.9-py2.py3-none-any.whl (5.9MB)\n",
      "\u001b[K     |████████████████████████████████| 5.9MB 4.9MB/s eta 0:00:01\n",
      "\u001b[?25hRequirement already satisfied: docutils<0.16,>=0.10 in /home/realna/anaconda3/lib/python3.7/site-packages (from botocore<1.15.0,>=1.14.9->boto3->smart-open>=1.8.1->gensim) (0.15.2)\n",
      "Requirement already satisfied: python-dateutil<3.0.0,>=2.1 in /home/realna/anaconda3/lib/python3.7/site-packages (from botocore<1.15.0,>=1.14.9->boto3->smart-open>=1.8.1->gensim) (2.8.1)\n",
      "Building wheels for collected packages: smart-open\n",
      "  Building wheel for smart-open (setup.py) ... \u001b[?25ldone\n",
      "\u001b[?25h  Created wheel for smart-open: filename=smart_open-1.9.0-cp37-none-any.whl size=73088 sha256=e02f040ef948fa3d9a1e758f47a16472fd2c971329e7d3a8ca602377ca9782be\n",
      "  Stored in directory: /home/realna/.cache/pip/wheels/ab/10/93/5cff86f5b721d77edaecc29959b1c60d894be1f66d91407d28\n",
      "Successfully built smart-open\n",
      "Installing collected packages: jmespath, botocore, s3transfer, boto3, smart-open, gensim\n",
      "Successfully installed boto3-1.11.9 botocore-1.14.9 gensim-3.8.1 jmespath-0.9.4 s3transfer-0.3.2 smart-open-1.9.0\n"
     ]
    }
   ],
   "source": [
    "#!pip install gensim"
   ]
  },
  {
   "cell_type": "code",
   "execution_count": 133,
   "metadata": {},
   "outputs": [],
   "source": [
    "import gensim\n",
    "from gensim import corpora"
   ]
  },
  {
   "cell_type": "code",
   "execution_count": 259,
   "metadata": {},
   "outputs": [],
   "source": [
    "dictionary = corpora.Dictionary(df_train[\"mecab_ticon\"])"
   ]
  },
  {
   "cell_type": "code",
   "execution_count": 260,
   "metadata": {},
   "outputs": [],
   "source": [
    "corpus = [dictionary.doc2bow(doc) for doc in df_train[\"mecab_ticon\"]]"
   ]
  },
  {
   "cell_type": "code",
   "execution_count": 370,
   "metadata": {},
   "outputs": [],
   "source": [
    "from sklearn.feature_extraction.text import CountVectorizer\n",
    "from sklearn.feature_extraction.text import TfidfVectorizer\n",
    "\n",
    "vectorizer = CountVectorizer(tokenizer=str.split,max_features = 5000,ngram_range=(1,7))\n",
    "train_doc_term_mat = vectorizer.fit_transform(train_documents)"
   ]
  },
  {
   "cell_type": "code",
   "execution_count": 137,
   "metadata": {},
   "outputs": [],
   "source": [
    "from sklearn.ensemble import RandomForestClassifier"
   ]
  },
  {
   "cell_type": "code",
   "execution_count": 371,
   "metadata": {},
   "outputs": [
    {
     "data": {
      "text/plain": [
       "RandomForestClassifier(bootstrap=True, ccp_alpha=0.0, class_weight=None,\n",
       "                       criterion='gini', max_depth=80, max_features='auto',\n",
       "                       max_leaf_nodes=None, max_samples=None,\n",
       "                       min_impurity_decrease=0.0, min_impurity_split=None,\n",
       "                       min_samples_leaf=3, min_samples_split=4,\n",
       "                       min_weight_fraction_leaf=0.0, n_estimators=3000,\n",
       "                       n_jobs=None, oob_score=False, random_state=0, verbose=0,\n",
       "                       warm_start=False)"
      ]
     },
     "execution_count": 371,
     "metadata": {},
     "output_type": "execute_result"
    }
   ],
   "source": [
    "clf = RandomForestClassifier(n_estimators=3000,max_depth=80, random_state=0,min_samples_split=4,min_samples_leaf=3)\n",
    "clf.fit(train_doc_term_mat,y_train)"
   ]
  },
  {
   "cell_type": "code",
   "execution_count": 319,
   "metadata": {},
   "outputs": [
    {
     "data": {
      "text/plain": [
       "lightgbm.basic.Dataset"
      ]
     },
     "execution_count": 319,
     "metadata": {},
     "output_type": "execute_result"
    }
   ],
   "source": [
    "type(train_ds)"
   ]
  },
  {
   "cell_type": "code",
   "execution_count": 320,
   "metadata": {},
   "outputs": [],
   "source": [
    "tdtm = train_doc_term_mat.astype(\"float32\")\n",
    "y_t = y_train.astype(\"float32\")"
   ]
  },
  {
   "cell_type": "code",
   "execution_count": 329,
   "metadata": {},
   "outputs": [],
   "source": [
    "y_valid= y_train[2300:].astype(\"float32\")\n",
    "valid_doc_term_mat=train_doc_term_mat[2300:].astype(\"float32\")\n"
   ]
  },
  {
   "cell_type": "code",
   "execution_count": 337,
   "metadata": {
    "scrolled": true
   },
   "outputs": [],
   "source": [
    "import lightgbm as lgb\n",
    "train_ds = lgb.Dataset(tdtm[:2300],label=y_t[:2300])\n",
    "test_ds = lgb.Dataset(valid_doc_term_mat,label=y_valid)\n",
    "params = {'learning_rate': 0.04,\n",
    "          'max_depth' : 16,\n",
    "          'boosting' :'gbdt',\n",
    "          'objective':'binary',\n",
    "          'metric':'accuracy',\n",
    "          'is_training_metric':True,\n",
    "          'num_leaves':144,\n",
    "          'feature_fraction':0.9,\n",
    "          'bagging_fraction':0.7,\n",
    "          'bagging_freq':5}\n",
    "model = lgb.train(params,train_ds,1000,test_ds,verbose_eval=100)\n",
    "y_pred=model.predict(test_doc_term_mat.astype('float32'))"
   ]
  },
  {
   "cell_type": "code",
   "execution_count": 372,
   "metadata": {},
   "outputs": [],
   "source": [
    "test_documents = df_test[\"mecab_ticon\"]"
   ]
  },
  {
   "cell_type": "code",
   "execution_count": 373,
   "metadata": {},
   "outputs": [],
   "source": [
    "test_documents = test_documents.apply(lambda x : \" \".join(x))"
   ]
  },
  {
   "cell_type": "code",
   "execution_count": 374,
   "metadata": {},
   "outputs": [],
   "source": [
    "test_doc_term_mat = vectorizer.transform(test_documents)"
   ]
  },
  {
   "cell_type": "code",
   "execution_count": 380,
   "metadata": {},
   "outputs": [],
   "source": [
    "y_pred = clf.predict_proba(test_doc_term_mat)"
   ]
  },
  {
   "cell_type": "code",
   "execution_count": 376,
   "metadata": {},
   "outputs": [
    {
     "data": {
      "text/plain": [
       "array([5, 4, 1, 3, 5, 3, 5, 4, 3, 3, 2, 5, 5, 3, 3, 3, 4, 1, 1, 2, 3, 5,\n",
       "       3, 5, 3, 5, 5, 2, 5, 3, 4, 3, 5, 4, 3, 5, 2, 4, 4, 5, 2, 5, 3, 3,\n",
       "       4, 1, 3, 3, 4, 3, 3, 3, 1, 1, 1, 2, 5, 5, 3, 5, 3, 2, 5, 5, 2, 5,\n",
       "       3, 3, 3, 3, 3, 5, 3, 4, 4, 4, 3, 5, 3, 3, 4, 3, 3, 4, 4, 4, 4, 5,\n",
       "       1, 3, 3, 1, 3, 3, 1, 1, 1, 3, 3, 4, 3, 3, 5, 3, 3, 1, 4, 4, 3, 4,\n",
       "       3, 2, 3, 3, 3, 5, 4, 3, 3, 2, 2, 2, 4, 3, 3, 3, 3, 1, 2, 5, 2, 2,\n",
       "       2, 3, 4, 3, 5, 3, 3, 3, 5, 5, 3, 5, 3, 3, 3, 4, 3, 5, 4, 3, 2, 3,\n",
       "       3, 5, 3, 4, 3, 4, 3, 3, 5, 4, 3, 3, 3, 4, 3, 3, 1, 3, 5, 5, 3, 5,\n",
       "       4, 1, 4, 4, 3, 5, 3, 5, 2, 3, 5, 1, 3, 3, 3, 4, 3, 3, 2, 4, 3, 4,\n",
       "       1, 4, 3, 5, 3, 5, 3, 2, 2, 4, 3, 4, 1, 1, 2, 3, 1, 5, 1, 5, 3, 4,\n",
       "       5, 3, 4, 3, 3, 3, 5, 5, 3, 3, 3, 3, 3, 2, 2, 4, 5, 1, 5, 2, 4, 3,\n",
       "       5, 2, 1, 4, 4, 1, 1, 3, 2, 3, 1, 2, 3, 2, 4, 3, 3, 5, 5, 5, 3, 2,\n",
       "       5, 1, 3, 3, 3, 3, 3, 5, 3, 3, 4, 1, 2, 4, 1, 1, 2, 5, 3, 1, 5, 1,\n",
       "       2, 3, 5, 3, 1, 2, 5, 1, 3, 4, 3, 3, 5, 3, 1, 5, 3, 3, 3, 3, 4, 2,\n",
       "       4, 3, 5, 4, 2, 5, 3, 3, 3, 3, 3, 3, 4, 3, 2, 3, 2, 3, 3, 4, 5, 3,\n",
       "       1, 5, 3, 3, 3, 2, 3, 3, 3, 5, 3, 5, 3, 2, 5, 1, 3, 3, 3, 3, 1, 5,\n",
       "       3, 5, 1, 3, 2, 5, 3, 5, 5, 3, 3, 3, 3, 1, 3, 1, 4, 2, 3, 2, 3, 1,\n",
       "       4, 3, 1, 3, 4, 3, 5, 3, 3, 3, 3, 5, 3, 1, 4, 2, 4, 1, 3, 5, 5, 3,\n",
       "       3, 5, 1, 1, 3, 5, 1, 3, 3, 4, 3, 1, 3, 4, 1, 5, 5, 3, 2, 4, 4, 3,\n",
       "       1, 2, 4, 3, 3, 2, 3, 3, 3, 3, 3, 3, 5, 2, 3, 3, 4, 5, 5, 3, 2, 4,\n",
       "       3, 5, 3, 2, 3, 4, 5, 2, 3, 1, 4, 3, 4, 3, 5, 3, 3, 3, 3, 3, 3, 3,\n",
       "       3, 3, 5, 5, 3, 2, 1, 1, 5, 2, 5, 2, 5, 2, 3, 4, 4, 3, 5, 5, 3, 5,\n",
       "       5, 5, 3, 5, 5, 5, 5, 3, 3, 3, 4, 3, 1, 1, 3, 3])"
      ]
     },
     "execution_count": 376,
     "metadata": {},
     "output_type": "execute_result"
    }
   ],
   "source": [
    "y_pred"
   ]
  },
  {
   "cell_type": "code",
   "execution_count": 42,
   "metadata": {},
   "outputs": [],
   "source": [
    "df_sub = pd.read_csv(\"./hashcode_classification2020_sample.csv\",encoding=\"utf-8\")"
   ]
  },
  {
   "cell_type": "code",
   "execution_count": 381,
   "metadata": {},
   "outputs": [],
   "source": [
    "df_per = pd.DataFrame(y_pred,columns=['1','2','3','4','5'])"
   ]
  },
  {
   "cell_type": "code",
   "execution_count": 382,
   "metadata": {},
   "outputs": [],
   "source": [
    "df_per.to_csv(\"proba_0.73.csv\",encoding=\"utf-8\")"
   ]
  },
  {
   "cell_type": "code",
   "execution_count": 377,
   "metadata": {},
   "outputs": [],
   "source": [
    "df_sub[\"label\"] = y_pred"
   ]
  },
  {
   "cell_type": "code",
   "execution_count": 378,
   "metadata": {},
   "outputs": [
    {
     "data": {
      "text/html": [
       "<div>\n",
       "<style scoped>\n",
       "    .dataframe tbody tr th:only-of-type {\n",
       "        vertical-align: middle;\n",
       "    }\n",
       "\n",
       "    .dataframe tbody tr th {\n",
       "        vertical-align: top;\n",
       "    }\n",
       "\n",
       "    .dataframe thead th {\n",
       "        text-align: right;\n",
       "    }\n",
       "</style>\n",
       "<table border=\"1\" class=\"dataframe\">\n",
       "  <thead>\n",
       "    <tr style=\"text-align: right;\">\n",
       "      <th></th>\n",
       "      <th>label</th>\n",
       "    </tr>\n",
       "  </thead>\n",
       "  <tbody>\n",
       "    <tr>\n",
       "      <th>0</th>\n",
       "      <td>5</td>\n",
       "    </tr>\n",
       "    <tr>\n",
       "      <th>1</th>\n",
       "      <td>4</td>\n",
       "    </tr>\n",
       "    <tr>\n",
       "      <th>2</th>\n",
       "      <td>1</td>\n",
       "    </tr>\n",
       "    <tr>\n",
       "      <th>3</th>\n",
       "      <td>3</td>\n",
       "    </tr>\n",
       "    <tr>\n",
       "      <th>4</th>\n",
       "      <td>5</td>\n",
       "    </tr>\n",
       "    <tr>\n",
       "      <th>...</th>\n",
       "      <td>...</td>\n",
       "    </tr>\n",
       "    <tr>\n",
       "      <th>495</th>\n",
       "      <td>3</td>\n",
       "    </tr>\n",
       "    <tr>\n",
       "      <th>496</th>\n",
       "      <td>1</td>\n",
       "    </tr>\n",
       "    <tr>\n",
       "      <th>497</th>\n",
       "      <td>1</td>\n",
       "    </tr>\n",
       "    <tr>\n",
       "      <th>498</th>\n",
       "      <td>3</td>\n",
       "    </tr>\n",
       "    <tr>\n",
       "      <th>499</th>\n",
       "      <td>3</td>\n",
       "    </tr>\n",
       "  </tbody>\n",
       "</table>\n",
       "<p>500 rows × 1 columns</p>\n",
       "</div>"
      ],
      "text/plain": [
       "     label\n",
       "0        5\n",
       "1        4\n",
       "2        1\n",
       "3        3\n",
       "4        5\n",
       "..     ...\n",
       "495      3\n",
       "496      1\n",
       "497      1\n",
       "498      3\n",
       "499      3\n",
       "\n",
       "[500 rows x 1 columns]"
      ]
     },
     "execution_count": 378,
     "metadata": {},
     "output_type": "execute_result"
    }
   ],
   "source": [
    "df_sub"
   ]
  },
  {
   "cell_type": "code",
   "execution_count": 379,
   "metadata": {},
   "outputs": [],
   "source": [
    "df_sub.to_csv(\"./submission21.csv\",index=False,encoding=\"utf-8\")"
   ]
  }
 ],
 "metadata": {
  "kernelspec": {
   "display_name": "Python 3",
   "language": "python",
   "name": "python3"
  },
  "language_info": {
   "codemirror_mode": {
    "name": "ipython",
    "version": 3
   },
   "file_extension": ".py",
   "mimetype": "text/x-python",
   "name": "python",
   "nbconvert_exporter": "python",
   "pygments_lexer": "ipython3",
   "version": "3.7.6"
  }
 },
 "nbformat": 4,
 "nbformat_minor": 2
}
