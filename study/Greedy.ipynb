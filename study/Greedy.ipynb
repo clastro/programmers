{
 "cells": [
  {
   "cell_type": "markdown",
   "metadata": {},
   "source": [
    "## Greedy 알고리즘 (50점)"
   ]
  },
  {
   "cell_type": "code",
   "execution_count": null,
   "metadata": {},
   "outputs": [],
   "source": [
    "def solution(n, lost, reserve):\n",
    "    answer = 0\n",
    "    seq = len(reserve) * [1]\n",
    "\n",
    "    plus_res = [reserve[i] + seq[i] for i in range(len(reserve))]\n",
    "    minus_res = [reserve[i] - seq[i] for i in range(len(reserve))]\n",
    "\n",
    "    remain = set(lost) - set(minus_res)\n",
    "    remain2 = set(lost) - set(plus_res)\n",
    "    \n",
    "    num_lost = min(len(remain),len(remain2))\n",
    "    answer = n - num_lost\n",
    "\n",
    "    return answer"
   ]
  },
  {
   "cell_type": "code",
   "execution_count": null,
   "metadata": {},
   "outputs": [],
   "source": [
    "def solution(n, lost, reserve):\n",
    "    answer = 0\n",
    "    seq = len(reserve) * [1]\n",
    "\n",
    "    plus_res = [reserve[i] + seq[i] for i in range(len(reserve))]\n",
    "    minus_res = [reserve[i] - seq[i] for i in range(len(reserve))]\n",
    "\n",
    "    remain = set(lost) - set(minus_res)\n",
    "    remain2 = set(lost) - set(plus_res)\n",
    "    \n",
    "    num_lost = len(remain & remain2)\n",
    "    answer = n - num_lost\n",
    "\n",
    "    return answer"
   ]
  }
 ],
 "metadata": {
  "kernelspec": {
   "display_name": "Python 3",
   "language": "python",
   "name": "python3"
  },
  "language_info": {
   "codemirror_mode": {
    "name": "ipython",
    "version": 3
   },
   "file_extension": ".py",
   "mimetype": "text/x-python",
   "name": "python",
   "nbconvert_exporter": "python",
   "pygments_lexer": "ipython3",
   "version": "3.8.5"
  }
 },
 "nbformat": 4,
 "nbformat_minor": 4
}
